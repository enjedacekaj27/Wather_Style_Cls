{
  "cells": [
    {
      "cell_type": "code",
      "execution_count": null,
      "id": "ee14855e-636c-454b-99b7-4b905fb7478a",
      "metadata": {
        "id": "ee14855e-636c-454b-99b7-4b905fb7478a"
      },
      "outputs": [],
      "source": [
        "import zipfile\n",
        "import os\n",
        "import torch\n",
        "import torch.nn as nn\n",
        "import torch.optim as optim\n",
        "from torchvision import datasets, transforms\n",
        "from torch.utils.data import DataLoader\n",
        "from PIL import Image"
      ]
    },
    {
      "cell_type": "code",
      "execution_count": null,
      "id": "0ef1fbe4-8047-4e1d-bbe1-2ebad3a65828",
      "metadata": {
        "id": "0ef1fbe4-8047-4e1d-bbe1-2ebad3a65828"
      },
      "outputs": [],
      "source": [
        "# Step 1: Unzip the file\n",
        "zip_file_path = '/content/AI_lab_generated.zip'\n",
        "extract_to = '/content/AI_images'  # Directory to extract the contents\n",
        "\n",
        "with zipfile.ZipFile(zip_file_path, 'r') as zip_ref:\n",
        "    zip_ref.extractall(extract_to)"
      ]
    },
    {
      "cell_type": "code",
      "execution_count": null,
      "id": "c1fcebef-1a10-4365-a0c2-f6428444ac10",
      "metadata": {
        "id": "c1fcebef-1a10-4365-a0c2-f6428444ac10"
      },
      "outputs": [],
      "source": [
        "# Step 2: Define the paths and load the dataset\n",
        "data_root = os.path.join(extract_to, \"AI_lab_generated\")"
      ]
    },
    {
      "cell_type": "code",
      "execution_count": null,
      "id": "af37dba4-eb7e-4fe9-9323-0a6bf5b7e3a8",
      "metadata": {
        "colab": {
          "base_uri": "https://localhost:8080/"
        },
        "id": "af37dba4-eb7e-4fe9-9323-0a6bf5b7e3a8",
        "outputId": "10493273-e734-4169-a915-958df8ac840a"
      },
      "outputs": [
        {
          "name": "stdout",
          "output_type": "stream",
          "text": [
            "Classes: ['artistic_rainy', 'artistic_sunny', 'realistic_rainy', 'realistic_sunny']\n"
          ]
        }
      ],
      "source": [
        "# Step 3: Data Preparation\n",
        "transform = transforms.Compose([\n",
        "    transforms.Resize((128, 128)),\n",
        "    transforms.ToTensor(),\n",
        "    transforms.Normalize(mean=[0.5, 0.5, 0.5], std=[0.5, 0.5, 0.5])\n",
        "])\n",
        "\n",
        "# Use ImageFolder to load data\n",
        "dataset = datasets.ImageFolder(root=data_root, transform=transform)\n",
        "\n",
        "# Split into train/test sets\n",
        "train_size = int(0.8 * len(dataset))\n",
        "test_size = len(dataset) - train_size\n",
        "train_dataset, test_dataset = torch.utils.data.random_split(dataset, [train_size, test_size])\n",
        "\n",
        "train_loader = DataLoader(train_dataset, batch_size=32, shuffle=True)\n",
        "test_loader = DataLoader(test_dataset, batch_size=32, shuffle=False)\n",
        "\n",
        "print(\"Classes:\", dataset.classes)  # Should output: ['artistic_rainy', 'artistic_sunny', 'realistic_rainy', 'realistic_sunny']"
      ]
    },
    {
      "cell_type": "code",
      "execution_count": null,
      "id": "095551f8-5991-4aa6-a079-87675737fdc8",
      "metadata": {
        "id": "095551f8-5991-4aa6-a079-87675737fdc8"
      },
      "outputs": [],
      "source": [
        "# Step 4: Define CNN Model for Weather Classification (Rainy/Sunny)\n",
        "class WeatherClassifier(nn.Module):\n",
        "    def __init__(self):\n",
        "        super(WeatherClassifier, self).__init__()\n",
        "        self.conv1 = nn.Conv2d(3, 16, 3, 1)\n",
        "        self.conv2 = nn.Conv2d(16, 32, 3, 1)\n",
        "        self.fc1 = nn.Linear(32 * 30 * 30, 128)\n",
        "        self.fc2 = nn.Linear(128, 2)  # 2 classes: rainy and sunny\n",
        "\n",
        "    def forward(self, x):\n",
        "        x = nn.functional.relu(self.conv1(x))\n",
        "        x = nn.functional.max_pool2d(x, 2)\n",
        "        x = nn.functional.relu(self.conv2(x))\n",
        "        x = nn.functional.max_pool2d(x, 2)\n",
        "        x = x.view(x.size(0), -1)\n",
        "        x = nn.functional.relu(self.fc1(x))\n",
        "        x = self.fc2(x)\n",
        "        return x"
      ]
    },
    {
      "cell_type": "code",
      "execution_count": null,
      "id": "bfe996ee-a629-449e-9983-d6280917d67b",
      "metadata": {
        "id": "bfe996ee-a629-449e-9983-d6280917d67b"
      },
      "outputs": [],
      "source": [
        "# Step 5: Define CNN Model for Style Classification (Artistic/Realistic)\n",
        "class StyleClassifier(nn.Module):\n",
        "    def __init__(self):\n",
        "        super(StyleClassifier, self).__init__()\n",
        "        self.conv1 = nn.Conv2d(3, 16, 3, 1)\n",
        "        self.conv2 = nn.Conv2d(16, 32, 3, 1)\n",
        "        self.fc1 = nn.Linear(32 * 30 * 30, 128)\n",
        "        self.fc2 = nn.Linear(128, 2)  # 2 classes: artistic and realistic\n",
        "\n",
        "    def forward(self, x):\n",
        "        x = nn.functional.relu(self.conv1(x))\n",
        "        x = nn.functional.max_pool2d(x, 2)\n",
        "        x = nn.functional.relu(self.conv2(x))\n",
        "        x = nn.functional.max_pool2d(x, 2)\n",
        "        x = x.view(x.size(0), -1)\n",
        "        x = nn.functional.relu(self.fc1(x))\n",
        "        x = self.fc2(x)\n",
        "        return x"
      ]
    },
    {
      "cell_type": "code",
      "execution_count": null,
      "id": "570a2bfc-2d5a-453c-b1b3-07f629b586fc",
      "metadata": {
        "id": "570a2bfc-2d5a-453c-b1b3-07f629b586fc"
      },
      "outputs": [],
      "source": [
        "# Step 6: Define the Models, Optimizers, and Loss Function\n",
        "weather_model = WeatherClassifier()\n",
        "style_model = StyleClassifier()\n",
        "\n",
        "optimizer = optim.Adam(weather_model.parameters(), lr=0.001)\n",
        "style_optimizer = optim.Adam(style_model.parameters(), lr=0.001)\n",
        "criterion = nn.CrossEntropyLoss()"
      ]
    },
    {
      "cell_type": "code",
      "execution_count": null,
      "id": "0e0d1bea-6207-4734-a1cf-360f17790bac",
      "metadata": {
        "id": "0e0d1bea-6207-4734-a1cf-360f17790bac"
      },
      "outputs": [],
      "source": [
        "# Step 7: Define the model training function\n",
        "def train_model(model, train_loader, optimizer, criterion, num_epochs=10, classifier_type='weather'):\n",
        "    for epoch in range(num_epochs):\n",
        "        model.train()\n",
        "        running_loss = 0.0\n",
        "        for images, labels in train_loader:\n",
        "            if classifier_type == 'weather':\n",
        "                # Convert labels to binary: 0 for rainy, 1 for sunny\n",
        "                labels = [0 if 'rainy' in dataset.classes[label] else 1 for label in labels]\n",
        "            elif classifier_type == 'style':\n",
        "                # Convert labels to binary: 0 for artistic, 1 for realistic\n",
        "                labels = [0 if 'artistic' in dataset.classes[label] else 1 for label in labels]\n",
        "\n",
        "            labels = torch.tensor(labels)\n",
        "\n",
        "            optimizer.zero_grad()\n",
        "            outputs = model(images)\n",
        "            loss = criterion(outputs, labels)\n",
        "            loss.backward()\n",
        "            optimizer.step()\n",
        "\n",
        "            running_loss += loss.item()\n",
        "        print(f\"Epoch {epoch+1}, Loss: {running_loss / len(train_loader)}\")"
      ]
    },
    {
      "cell_type": "code",
      "execution_count": null,
      "id": "602da956-8213-4bdf-9857-5d972cbbc3b5",
      "metadata": {
        "colab": {
          "base_uri": "https://localhost:8080/"
        },
        "id": "602da956-8213-4bdf-9857-5d972cbbc3b5",
        "outputId": "873ded48-6701-496b-832b-77a7a876b696"
      },
      "outputs": [
        {
          "name": "stdout",
          "output_type": "stream",
          "text": [
            "\n",
            "Training Weather Classifier (Rainy/Sunny)...\n",
            "Epoch 1, Loss: 0.5861966162919998\n",
            "Epoch 2, Loss: 0.171401164184014\n",
            "Epoch 3, Loss: 0.04625445449103912\n",
            "Epoch 4, Loss: 0.01564870000584051\n",
            "Epoch 5, Loss: 0.004719881758016224\n",
            "Epoch 6, Loss: 0.0013302478667659063\n",
            "Epoch 7, Loss: 0.0005243842521546563\n",
            "Epoch 8, Loss: 0.0003516367998296725\n",
            "Epoch 9, Loss: 0.0001405849416187266\n",
            "Epoch 10, Loss: 0.00010389551501551371\n"
          ]
        }
      ],
      "source": [
        "# Step 8: # Train weather classifier\n",
        "print(\"\\nTraining Weather Classifier (Rainy/Sunny)...\")\n",
        "train_model(weather_model, train_loader, optimizer, criterion, num_epochs=10, classifier_type='weather')\n",
        "\n"
      ]
    },
    {
      "cell_type": "code",
      "execution_count": null,
      "id": "1be4aee8-086c-43e2-aba7-41c226a9ef2d",
      "metadata": {
        "colab": {
          "base_uri": "https://localhost:8080/"
        },
        "id": "1be4aee8-086c-43e2-aba7-41c226a9ef2d",
        "outputId": "558db5a0-6700-4886-9696-3b06ef948cbf"
      },
      "outputs": [
        {
          "name": "stdout",
          "output_type": "stream",
          "text": [
            "\n",
            "Training Style Classifier (Artistic/Realistic)...\n",
            "Epoch 1, Loss: 0.535306935509046\n",
            "Epoch 2, Loss: 0.1259213094599545\n",
            "Epoch 3, Loss: 0.022945523727685213\n",
            "Epoch 4, Loss: 0.015788223575024556\n",
            "Epoch 5, Loss: 0.006957649165997282\n",
            "Epoch 6, Loss: 0.00040622339050363127\n",
            "Epoch 7, Loss: 0.0011646686277041833\n",
            "Epoch 8, Loss: 0.0002313562032062085\n",
            "Epoch 9, Loss: 1.7104969818622823e-05\n",
            "Epoch 10, Loss: 1.3409113800359288e-05\n"
          ]
        }
      ],
      "source": [
        "# Step 9: Train style classifier\n",
        "print(\"\\nTraining Style Classifier (Artistic/Realistic)...\")\n",
        "train_model(style_model, train_loader, style_optimizer, criterion, num_epochs=10, classifier_type='style')"
      ]
    },
    {
      "cell_type": "code",
      "execution_count": null,
      "id": "0f769453-6864-4ae7-a528-bf986a49d573",
      "metadata": {
        "id": "0f769453-6864-4ae7-a528-bf986a49d573"
      },
      "outputs": [],
      "source": [
        "# Step 10: Save the Weather Trained Model\n",
        "torch.save(weather_model.state_dict(), 'weather_classifier_model.pth')"
      ]
    },
    {
      "cell_type": "code",
      "execution_count": null,
      "id": "8dbde92b-62e0-4649-ab5e-0e78568f8510",
      "metadata": {
        "id": "8dbde92b-62e0-4649-ab5e-0e78568f8510"
      },
      "outputs": [],
      "source": [
        "# Step 11: Save the Weather Trained Model\n",
        "torch.save(style_model.state_dict(), 'style_classifier_model.pth')"
      ]
    },
    {
      "cell_type": "code",
      "execution_count": null,
      "id": "iuC4zTvL7s36",
      "metadata": {
        "colab": {
          "base_uri": "https://localhost:8080/"
        },
        "id": "iuC4zTvL7s36",
        "outputId": "90bb9f3a-5eb0-49ff-ae9c-bfb9dc60746d"
      },
      "outputs": [
        {
          "name": "stdout",
          "output_type": "stream",
          "text": [
            "The predicted weather is: Sunny\n"
          ]
        }
      ],
      "source": [
        "#Test nodel for weather prediction\n",
        "# Step1: put the model in evaluation mode\n",
        "weather_model.eval()\n",
        "\n",
        "# Step2: find the image for prediction\n",
        "image_path = '/content/model_test/test_weather.png'\n",
        "image = Image.open(image_path)\n",
        "image = transform(image)\n",
        "image = image.unsqueeze(0)\n",
        "\n",
        "# Step 3: Make predictions\n",
        "with torch.no_grad():\n",
        "    output = weather_model(image)\n",
        "    probabilities = torch.softmax(output, dim=1)\n",
        "    predicted_class = torch.argmax(probabilities, dim=1).item()\n",
        "\n",
        "# Step 4: Output the prediction\n",
        "if predicted_class == 0:\n",
        "    print(\"The predicted weather is: Rainy\")\n",
        "else:\n",
        "    print(\"The predicted weather is: Sunny\")"
      ]
    },
    {
      "cell_type": "code",
      "execution_count": null,
      "id": "vZH2nNw070rv",
      "metadata": {
        "colab": {
          "base_uri": "https://localhost:8080/"
        },
        "id": "vZH2nNw070rv",
        "outputId": "1c2fa4fc-30b4-414f-e3f7-8733b5fd203a"
      },
      "outputs": [
        {
          "name": "stdout",
          "output_type": "stream",
          "text": [
            "The predicted weather is: artistic\n"
          ]
        }
      ],
      "source": [
        "#Test the style model (predict image style)\n",
        "\n",
        "# Step1: put model in eval mode\n",
        "style_model.eval()\n",
        "# Step2: find the image for testing style\n",
        "image_path = '/content/model_test/test_style.png'\n",
        "image = Image.open(image_path)\n",
        "image = transform(image)\n",
        "image = image.unsqueeze(0)\n",
        "\n",
        "# Step 3: Make predictions\n",
        "with torch.no_grad():\n",
        "    output = weather_model(image)\n",
        "    probabilities = torch.softmax(output, dim=1)\n",
        "    predicted_style = torch.argmax(probabilities, dim=1).item()\n",
        "\n",
        "# Step 4: Output the prediction\n",
        "if predicted_style == 0:\n",
        "    print(\"The predicted weather is: artistic\")\n",
        "else:\n",
        "    print(\"The predicted weather is: realistic\")"
      ]
    }
  ],
  "metadata": {
    "colab": {
      "provenance": []
    },
    "kernelspec": {
      "display_name": "Python 3",
      "language": "python",
      "name": "python3"
    },
    "language_info": {
      "codemirror_mode": {
        "name": "ipython",
        "version": 3
      },
      "file_extension": ".py",
      "mimetype": "text/x-python",
      "name": "python",
      "nbconvert_exporter": "python",
      "pygments_lexer": "ipython3",
      "version": "3.12.6"
    }
  },
  "nbformat": 4,
  "nbformat_minor": 5
}
